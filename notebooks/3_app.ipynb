{
 "cells": [
  {
   "cell_type": "code",
   "execution_count": 1,
   "metadata": {},
   "outputs": [],
   "source": [
    "import os\n",
    "\n",
    "import numpy as np\n",
    "import tensorflow as tf\n",
    "import joblib\n",
    "import pandas as pd"
   ]
  },
  {
   "cell_type": "markdown",
   "metadata": {},
   "source": [
    "Datos que se usan:\n",
    "- annual_inc (float)\n",
    "- emp_length (categorica)\n",
    "- home_ownership (categorica)\n",
    "- purpose (categorica)\n",
    "- zip_code (int)\n",
    "- open_acc (int)\n",
    "- dti (float): esta variable hay que calcularla"
   ]
  },
  {
   "cell_type": "markdown",
   "metadata": {},
   "source": [
    "Para calcular el DTI (Debt-to-Income Ratio) a partir de la información que le proporcionas al usuario, puedes seguir estos pasos:\n",
    "\n",
    "1. **Ingresos Mensuales:**  \n",
    "   Si el usuario te da su ingreso anual, divídelo entre 12 para obtener el ingreso mensual. Por ejemplo, si declara que gana \\$36,000 al año, su ingreso mensual es:\n",
    "\n",
    "$$\n",
    "   \\text{Ingreso Mensual} = \\frac{36000}{12} = 3000 \\, \\text{USD}\n",
    "$$\n",
    "\n",
    "2. **Pagos Mensuales de Deuda:**  \n",
    "   Pide al usuario que sume todos los pagos mensuales de sus deudas (como préstamos, tarjetas de crédito, hipotecas, etc.). Por ejemplo, si el total de sus pagos mensuales es de \\$600, ese es el numerador.\n",
    "\n",
    "3. **Fórmula del DTI:**  \n",
    "   El DTI se calcula dividiendo el total de pagos mensuales de deuda entre el ingreso mensual y, opcionalmente, multiplicando por 100 para expresarlo en porcentaje:\n",
    "\n",
    "$$\n",
    "   \\text{DTI} = \\frac{\\text{Pagos Mensuales de Deuda}}{\\text{Ingreso Mensual}} \\times 100\n",
    "$$\n",
    "\n",
    "   Siguiendo el ejemplo:\n",
    "\n",
    "$$\n",
    "   \\text{DTI} = \\frac{600}{3000} \\times 100 = 20\\%\n",
    "$$\n",
    "\n",
    "Este 20% indica que el 20% del ingreso mensual del usuario se destina al pago de sus deudas. Es un indicador útil para evaluar la capacidad de pago del solicitante."
   ]
  },
  {
   "cell_type": "code",
   "execution_count": null,
   "metadata": {},
   "outputs": [],
   "source": [
    "# Cargar modelo y preprocesador\n",
    "model = tf.keras.models.load_model(os.path.join('..', 'models', 'loan_model_2.h5'))\n",
    "preprocessor = joblib.load(os.path.join('..', 'models', 'preprocessor.pkl'))"
   ]
  },
  {
   "cell_type": "code",
   "execution_count": null,
   "metadata": {},
   "outputs": [],
   "source": [
    "def predict_with_optimal_threshold(model, X, threshold=0.326):\n",
    "    \"\"\"\n",
    "    Realiza predicciones usando el threshold optimizado\n",
    "    \"\"\"\n",
    "    y_pred_proba = model.predict(X)\n",
    "    return (y_pred_proba >= threshold).astype(int)"
   ]
  },
  {
   "cell_type": "code",
   "execution_count": null,
   "metadata": {},
   "outputs": [],
   "source": [
    "def probability_to_score_stretched(prob, base_score=300, max_score=850, threshold=0.326, \n",
    "\t\t\t\t\t\t\t\t\texpansion_factor_low=3, expansion_factor_high=0.7):\n",
    "    \"\"\"\n",
    "    Convierte probabilidades en puntajes de crédito con expansión no lineal \n",
    "    para distribuir mejor en los extremos.\n",
    "    \n",
    "    Args:\n",
    "        prob (float): Probabilidad de default.\n",
    "        base_score (int): Puntaje base.\n",
    "        max_score (int): Puntaje máximo.\n",
    "        threshold (float): Valor de corte óptimo.\n",
    "        expansion_factor_low (float): Factor para expandir la parte baja del rango.\n",
    "        expansion_factor_high (float): Factor para expandir la parte alta del rango.\n",
    "        \n",
    "    Returns:\n",
    "        score (float): Puntaje de crédito ajustado.\n",
    "    \"\"\"\n",
    "    # Invertir la probabilidad para que mayor valor sea mejor score\n",
    "    inverted_prob = 1 - prob\n",
    "    \n",
    "    # Punto de corte invertido\n",
    "    inverted_threshold = 1 - threshold\n",
    "    \n",
    "    # Determinar si es un score alto o bajo\n",
    "    if inverted_prob >= inverted_threshold:  # Buenos clientes\n",
    "        # Normalizar la probabilidad en el rango de buenos\n",
    "        normalized = (inverted_prob - inverted_threshold) / (1 - inverted_threshold)\n",
    "        # Aplicar expansión no lineal\n",
    "        transformed = normalized ** expansion_factor_high\n",
    "        # Mapear al rango superior\n",
    "        mid_score = 550  # Punto medio del rango\n",
    "        score = mid_score + (max_score - mid_score) * transformed\n",
    "    else:  # Malos clientes\n",
    "        # Normalizar la probabilidad en el rango de malos\n",
    "        normalized = inverted_prob / inverted_threshold\n",
    "        # Aplicar expansión no lineal para los scores bajos\n",
    "        transformed = normalized ** expansion_factor_low\n",
    "        # Mapear al rango inferior\n",
    "        mid_score = 550  # Punto medio del rango\n",
    "        score = base_score + (mid_score - base_score) * transformed\n",
    "    \n",
    "    # Asegurar que el score esté dentro del rango permitido\n",
    "    score = np.clip(score, base_score, max_score)\n",
    "    \n",
    "    return score"
   ]
  },
  {
   "cell_type": "code",
   "execution_count": null,
   "metadata": {},
   "outputs": [],
   "source": [
    "data = pd.DataFrame({'prob': np.linspace(0, 1, 100)})\n",
    "data_processed = preprocessor.transform(data)\t\n",
    "predictions_proba = model.predict(data_processed)\n",
    "predictions = predict_with_optimal_threshold(model, data_processed)\n",
    "credit_score = probability_to_score_stretched(predictions_proba[0])"
   ]
  }
 ],
 "metadata": {
  "kernelspec": {
   "display_name": ".venv",
   "language": "python",
   "name": "python3"
  },
  "language_info": {
   "codemirror_mode": {
    "name": "ipython",
    "version": 3
   },
   "file_extension": ".py",
   "mimetype": "text/x-python",
   "name": "python",
   "nbconvert_exporter": "python",
   "pygments_lexer": "ipython3",
   "version": "3.10.11"
  }
 },
 "nbformat": 4,
 "nbformat_minor": 2
}
